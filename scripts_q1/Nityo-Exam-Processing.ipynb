{
 "cells": [
  {
   "cell_type": "markdown",
   "id": "20c7de6f",
   "metadata": {},
   "source": [
    "# Solution for Question Number 1"
   ]
  },
  {
   "cell_type": "markdown",
   "id": "d0453d8b",
   "metadata": {},
   "source": [
    "Import required modules"
   ]
  },
  {
   "cell_type": "code",
   "execution_count": null,
   "id": "2c87c774",
   "metadata": {},
   "outputs": [],
   "source": [
    "import os, re, json\n",
    "from openpyxl import Workbook\n",
    "import fitz"
   ]
  },
  {
   "cell_type": "code",
   "execution_count": null,
   "id": "10c1fb4d",
   "metadata": {},
   "outputs": [],
   "source": [
    "directory = os.getcwd()\n",
    "file_name = '/../src_file/keppel-corporation-limited-annual-report-2018.pdf'\n",
    "pdf = directory + file_name\n",
    "# Initialize the directory of the file"
   ]
  },
  {
   "cell_type": "code",
   "execution_count": null,
   "id": "a0c94854",
   "metadata": {},
   "outputs": [],
   "source": [
    "doc = fitz.open(pdf)\n",
    "page_num = 11 #Initialize the page number here\n",
    "\n",
    "page = doc.load_page(page_num)\n",
    "# Page 13 of pdf stored to page variable"
   ]
  },
  {
   "cell_type": "code",
   "execution_count": null,
   "id": "7c623ffa",
   "metadata": {},
   "outputs": [],
   "source": [
    "def count_dominant_font(blocks):\n",
    "    '''\n",
    "    Iterates through all the contents of a page to identify the dominant font size, font type, and color\n",
    "    This would signify the size, type, and color used for the paragraphs\n",
    "    '''\n",
    "    font_styles = {}\n",
    "    font_sizes = {}\n",
    "    font_colors = {}\n",
    "\n",
    "    for b in blocks:  # iterate through the text blocks\n",
    "        if b['type'] == 0:  # block contains text\n",
    "            for l in b[\"lines\"]:  # iterate through the text lines\n",
    "                for s in l[\"spans\"]:  # iterate through the text spans\n",
    "                    # count the font_sizes usage\n",
    "                    if s['size'] in font_sizes.keys():\n",
    "                        font_sizes[s['size']] += 1\n",
    "                    else:\n",
    "                        font_sizes[s['size']] = 1\n",
    "                    if s['font'] in font_styles.keys():\n",
    "                        font_styles[s['font']] += 1\n",
    "                    else:\n",
    "                        font_styles[s['font']] = 1\n",
    "                    if s['font'] in font_colors.keys():\n",
    "                        font_colors[s['color']] += 1\n",
    "                    else:\n",
    "                        font_colors[s['color']] = 1\n",
    "\n",
    "    max_size = max(font_sizes, key=font_sizes.get)\n",
    "    max_style = max(font_styles, key=font_styles.get)\n",
    "    max_color = max(font_colors, key=font_colors.get)\n",
    "    #print(font_sizes)#, font_styles, font_colors)\n",
    "    return max_size, max_style, max_color"
   ]
  },
  {
   "cell_type": "code",
   "execution_count": null,
   "id": "17651734",
   "metadata": {},
   "outputs": [],
   "source": [
    "blocks = page.get_text('json')\n",
    "# Parse all blocks\n",
    "\n",
    "pgdict = json.loads(blocks)\n",
    "#Convert the blocks into json\n",
    "\n",
    "\n",
    "def sort_blocks(block_dict):\n",
    "    '''\n",
    "    Sorts the json file of the blocks and generates a list containing [[X position, Y position], Blocks]\n",
    "    '''\n",
    "    sortedBlocks = []\n",
    "    for block in block_dict['blocks']:\n",
    "        \n",
    "        #Test if the block contains lines of text\n",
    "        #Since images block does not have lines\n",
    "        try:\n",
    "            block['lines']\n",
    "        except:\n",
    "            pass\n",
    "        else:\n",
    "            x = block['bbox'][0]\n",
    "            y = block['bbox'][1]\n",
    "            key = [x, y]\n",
    "            sortedBlocks.append([key, block])\n",
    "        \n",
    "    sortedBlocks.sort(key = lambda k: [k[0], k[1]])\n",
    "    #Sorts the list based on x (k[0]) and then y(k[1])\n",
    "    \n",
    "    return sortedBlocks\n",
    "    #Returns the blocks without the keys\n",
    "\n",
    "blocks_list = sort_blocks(pgdict)\n"
   ]
  },
  {
   "cell_type": "code",
   "execution_count": null,
   "id": "bab0c8f1",
   "metadata": {},
   "outputs": [],
   "source": [
    "def create_paragraphs(blocks_list):\n",
    "    '''\n",
    "    Extracts text from the output of sort_blocks and exports it as [[X position, Y position], [Lines]]\n",
    "    '''\n",
    "    \n",
    "    #Obtain the most used fonts\n",
    "    max_size, max_style, max_color = count_dominant_font(pgdict['blocks'])\n",
    "    \n",
    "    #Initialize the list for storage\n",
    "    paragraphs = []\n",
    "    \n",
    "    for block in blocks_list:\n",
    "        textList = []\n",
    "        for line in block[1]['lines']:\n",
    "            #Test if the line contains spans\n",
    "            #If none: pass, if present: enter loop\n",
    "            try:\n",
    "                line['spans']\n",
    "            except:\n",
    "                pass\n",
    "            else:\n",
    "                for span in line['spans']:\n",
    "                #Test if the span is a paragraph content using size, color, and font\n",
    "                #Since headers, page numbers, etc. have different sizes, color, and font compared to paragraph texts\n",
    "                    if (span['size'] == max_size and span['color'] == max_color and span['font'] == max_style):\n",
    "                        #Stores the text if it is a paragraph content\n",
    "                        ##.replace, .encode, and .decode were used to remove unicode characters\n",
    "                        ##.replace was needed for \\xa0 since there is no space in between texts\n",
    "                        textList.append(span['text'].replace('\\xa0', ' ').encode(\"ascii\", \"ignore\").decode())\n",
    "        #Store the text list to paragraphs if there are contents\n",
    "        if len(textList) > 0:\n",
    "            paragraphs.append([block[0], textList])\n",
    "    return paragraphs\n",
    "paragraphs = create_paragraphs(blocks_list)"
   ]
  },
  {
   "cell_type": "code",
   "execution_count": null,
   "id": "b74c5159",
   "metadata": {},
   "outputs": [],
   "source": [
    "#print (''.join(paragraphs[10][1]))"
   ]
  },
  {
   "cell_type": "code",
   "execution_count": null,
   "id": "9e8e3650",
   "metadata": {},
   "outputs": [],
   "source": [
    "def finalize_and_export(paragraphs):\n",
    "    '''\n",
    "    Joins the texts of the output from create_paragraphs and exports it in a excel file with rows and columns that matches the paragraph positions\n",
    "    '''\n",
    "    wb = Workbook()\n",
    "    ws = wb.active\n",
    "    \n",
    "    #OpenPyXL uses 1 as first index\n",
    "    column = 1\n",
    "    row = 1\n",
    "    \n",
    "    #Store initial position for comparison\n",
    "    x_pos = paragraphs[0][0][0]\n",
    "    \n",
    "    for paragraph in paragraphs:\n",
    "        paragraph[1] = ''.join(paragraph[1])\n",
    "        \n",
    "        #Check for the block position vs paragraph\n",
    "        ##All with the same x will be stored in the same column\n",
    "        if (paragraph[0][0] == x_pos):\n",
    "            ws.cell(row = row, column = column, value = paragraph[1])\n",
    "            row += 1\n",
    "        elif (paragraph[0][0] != x_pos):\n",
    "            #Update row, column and x_pos if x_pos is different\n",
    "            ##row = 2 so that the row will not be overwritten\n",
    "            row = 2\n",
    "            column += 1\n",
    "            x_pos = paragraph[0][0]\n",
    "            ws.cell(row = (row - 1), column = column, value = paragraph[1])\n",
    "    wb.save(directory + '/../outputs/output.xlsx')\n",
    "    \n",
    "finalize_and_export(paragraphs)"
   ]
  }
 ],
 "metadata": {
  "kernelspec": {
   "display_name": "Data Science",
   "language": "python",
   "name": "datascience"
  },
  "language_info": {
   "codemirror_mode": {
    "name": "ipython",
    "version": 3
   },
   "file_extension": ".py",
   "mimetype": "text/x-python",
   "name": "python",
   "nbconvert_exporter": "python",
   "pygments_lexer": "ipython3",
   "version": "3.9.10"
  }
 },
 "nbformat": 4,
 "nbformat_minor": 5
}
