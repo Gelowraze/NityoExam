{
 "cells": [
  {
   "cell_type": "markdown",
   "id": "3726824d",
   "metadata": {},
   "source": [
    "# Solution for Question Number 1"
   ]
  },
  {
   "cell_type": "markdown",
   "id": "6ed4865b",
   "metadata": {},
   "source": [
    "Import required modules"
   ]
  },
  {
   "cell_type": "code",
   "execution_count": 1,
   "id": "a3487431",
   "metadata": {},
   "outputs": [],
   "source": [
    "import os, re\n",
    "import fitz"
   ]
  },
  {
   "cell_type": "code",
   "execution_count": 2,
   "id": "f020051b",
   "metadata": {},
   "outputs": [],
   "source": [
    "directory = os.getcwd() + \"\\\\..\\\\src_file\"\n",
    "file_name = \"\\\\keppel-corporation-limited-annual-report-2018.pdf\"\n",
    "pdf = directory + file_name\n",
    "# Initialize the directory of the file"
   ]
  },
  {
   "cell_type": "code",
   "execution_count": 3,
   "id": "c8c65c94",
   "metadata": {},
   "outputs": [],
   "source": [
    "doc = fitz.open(pdf)\n",
    "page_num = 11 #Initialize the page number here\n",
    "\n",
    "page = doc.load_page(page_num)\n",
    "# Page 13 of pdf stored to page variable"
   ]
  },
  {
   "cell_type": "code",
   "execution_count": 4,
   "id": "e78f3b4d",
   "metadata": {},
   "outputs": [
    {
     "name": "stdout",
     "output_type": "stream",
     "text": [
      "Text with \\n character:  While pursuing new markets and opportunities, \n",
      "we are growing our stable and recurring income \n",
      "from the quality operations and maintenance \n",
      "services provided by Infrastructure Services. \n",
      "\n",
      "Text with \\n character:  While pursuing new markets and opportunities, we are growing our stable and recurring income from the quality operations and maintenance services provided by Infrastructure Services. \n",
      "0 \n",
      "\n",
      "While pursuing new markets and opportunities, we are growing our stable and recurring income from the quality operations and maintenance services provided by Infrastructure Services.  \n",
      "\n",
      "1 \n",
      "\n",
      "Keppel Electric has been the largest electricity retailer in Singapore in terms of market share in the commercial and industrial sector. Following the launch of the Open Electricity Market (OEM) in Singapore, Keppel Electric is also making headway into the housing electricity market. Starting from 1 November 2018, the OEM is being progressively extended to all consumers across Singapore by zones. The response to Keppel Electric’s retail offerings for households has been encouraging, with preliminary results showing that it is among the retailers with the largest market shares in the OEM.  \n",
      "\n",
      "2 \n",
      "\n",
      "Keppel T&T is scaling up its logistics and data centre solutions to tap opportunities created by the fast-growing digital economy. With the burgeoning growth of cloud service providers as well as increasing storage and processing requirements, our data centre business is well positioned to tap growth opportunities.  \n",
      "\n",
      "3 \n",
      "\n",
      "In 2018, we added four new data centre projects across Asia and Europe to our portfolio. This expands our portfolio to 22 data centres with a total value of about $2.7 billion. To further grow its capabilities, Keppel T&T is also exploring innovative solutions such as high-rise green data centres and floating water-cooled data centre parks, which tap Keppel O&M’s expertise in floating infrastructure. \n",
      "\n",
      "4 \n",
      "\n",
      "Expanding into new markets, we have, through the Alpha Data Centre Fund (Alpha DC Fund) and Keppel Data Centres Holding (KDCH), signed conditional agreements with the Salim Group to jointly develop and operate a high-availability data centre in Bogor, about 35 kilometres from Jakarta. Alpha DC Fund and KDCH have also inked agreements with a leading technology company to develop and operate their first greenfield data centre in Johor, Malaysia. Meanwhile, Keppel Logistics focused on streamlining processes and resources for better cost management while seeking new opportunities in urban logistics. We continued to drive the growth of UrbanFox, our omnichannel logistics and channel management solutions brand. UrbanFox’s customer base has grown significantly, with deliveries doubling over the course of 2018. UrbanFox also plans to launch its integrated channel management in other countries in Southeast Asia, leveraging Keppel’s presence in those markets. \n",
      "\n",
      "5 \n",
      "\n",
      "Investments 2018 was an active year for our Investments Division. \n",
      "\n",
      "6 \n",
      "\n",
      "Keppel Capital announced acquisitions worth over $2 billion and explored new platforms  \n",
      "\n",
      "7 \n",
      "\n",
      "for long-term growth, including expanding into new markets and asset classes, focusing on areas which harness the capabilities of the Keppel Group.  \n",
      "\n",
      "8 \n",
      "\n",
      "With a view to tapping opportunities in the fast-growing senior living market, Keppel Capital entered into a conditional equity purchase agreement to acquire a 50% stake in leading US senior living operator, Watermark Retirement Communities. It has also signed Memoranda of Understanding (MOUs) to establish new private funds to invest in education real estate, and retail properties in Australia.  \n",
      "\n",
      "9 \n",
      "\n",
      "Our listed REITs and Trust have also been expanding their portfolios. In Australia, Keppel DC REIT is enlarging its data centre footprint with a new shell and core data centre, to be built in the Macquarie Business Park precinct in Sydney. In the US, Keppel-KBS US REIT continued to capture strong leasing demand from the technology and professional services sectors in Seattle. Keppel Infrastructure Trust has completed its acquisition of a 100% interest in Ixom,  \n",
      "\n",
      "10 \n",
      "\n",
      "1 \n",
      "\n",
      "11 \n",
      "\n",
      "Keppel Land expanded its presence in China in 2018 entering a new market with a residential land plot in Nanjing.  \n",
      "\n",
      "12 \n",
      "\n",
      "2 \n",
      "\n",
      "13 \n",
      "\n",
      "Keppel O&M’s proprietary RigCare Solution, implemented for the first time on Cantarell IV, will enhance the efficiency, safety and operability of the jackup rig. \n",
      "\n",
      "14 \n",
      "\n",
      "which is among the leading industrial infrastructure businesses in Australia and New Zealand, supplying and distributing water treatment chemicals, as well as industrial and specialty chemicals.  \n",
      "\n",
      "15 \n",
      "\n",
      "2018 also marked the 10th anniversary of the Sino-Singapore Tianjin Eco-City, a flagship government-to-government project between China and Singapore. With the Eco-City’s growing maturity, we are seeing increasing demand for homes and land in the city. Our joint venture, the Sino-Singapore Tianjin Eco-City Investment and Development Co., Ltd., sold three residential land plots for RMB 3.4 billion in 2018, one of which was acquired by Keppel Land to tap the healthy demand for its green homes in the Eco-City. \n",
      "\n",
      "16 \n",
      "\n",
      "Leveraging the Group’s strong track record in master development, Keppel Urban Solutions (KUS) continues to make good progress in its pilot project, the 64-hectare Saigon Sports City in HCMC, which is being developed in collaboration with  \n",
      "\n",
      "17 \n",
      "\n",
      "<image: DeviceCMYK, width: 513, height: 788, bpc: 8> \n",
      "\n",
      "18 \n",
      "\n",
      "2 \n",
      "\n",
      "19 \n",
      "\n",
      "Keppel Corporation Limited Report to Shareholders 2018      13 \n",
      "\n"
     ]
    }
   ],
   "source": [
    "blocks = page.get_text(\"blocks\")\n",
    "# Parse all blocks\n",
    "\n",
    "\n",
    "\n",
    "print (\"Text with \\\\n character: \", blocks[0][4])\n",
    "\n",
    "print (\"Text with \\\\n character: \", re.sub(r'\\n', '', blocks[0][4]))\n",
    "# Substite all the \\n with ''\n",
    "# Use the re.sub function and apply to all text blocks\n",
    "\n",
    "block_count = 0\n",
    "for block in blocks:\n",
    "    text = re.sub(r'\\n', '', blocks[block_count][4])\n",
    "    print (block_count, \"\\n\")\n",
    "    print (text, \"\\n\")\n",
    "    block_count += 1\n",
    "\n",
    "    "
   ]
  },
  {
   "cell_type": "code",
   "execution_count": null,
   "id": "14c28c2a",
   "metadata": {},
   "outputs": [],
   "source": [
    "print (blocks[6])"
   ]
  },
  {
   "cell_type": "code",
   "execution_count": null,
   "id": "8e300d83",
   "metadata": {},
   "outputs": [],
   "source": []
  }
 ],
 "metadata": {
  "kernelspec": {
   "display_name": "Data Science",
   "language": "python",
   "name": "datascience"
  },
  "language_info": {
   "codemirror_mode": {
    "name": "ipython",
    "version": 3
   },
   "file_extension": ".py",
   "mimetype": "text/x-python",
   "name": "python",
   "nbconvert_exporter": "python",
   "pygments_lexer": "ipython3",
   "version": "3.9.10"
  }
 },
 "nbformat": 4,
 "nbformat_minor": 5
}
