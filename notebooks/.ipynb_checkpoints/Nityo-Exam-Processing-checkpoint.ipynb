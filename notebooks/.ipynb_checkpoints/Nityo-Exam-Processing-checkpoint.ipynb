{
 "cells": [
  {
   "cell_type": "markdown",
   "id": "ce6347c7",
   "metadata": {},
   "source": [
    "# Solution for Question Number 1"
   ]
  },
  {
   "cell_type": "markdown",
   "id": "a716c7ff",
   "metadata": {},
   "source": [
    "Import required modules"
   ]
  },
  {
   "cell_type": "code",
   "execution_count": null,
   "id": "2d2f4d56",
   "metadata": {},
   "outputs": [],
   "source": [
    "import os, re, json\n",
    "import fitz"
   ]
  },
  {
   "cell_type": "code",
   "execution_count": null,
   "id": "9a3e47cf",
   "metadata": {},
   "outputs": [],
   "source": [
    "directory = os.getcwd() + '\\\\..\\\\src_file'\n",
    "file_name = '\\\\keppel-corporation-limited-annual-report-2018.pdf'\n",
    "pdf = directory + file_name\n",
    "# Initialize the directory of the file"
   ]
  },
  {
   "cell_type": "code",
   "execution_count": null,
   "id": "defce9d8",
   "metadata": {},
   "outputs": [],
   "source": [
    "doc = fitz.open(pdf)\n",
    "page_num = 11 #Initialize the page number here\n",
    "\n",
    "page = doc.load_page(page_num)\n",
    "# Page 13 of pdf stored to page variable"
   ]
  },
  {
   "cell_type": "code",
   "execution_count": null,
   "id": "1307de4d",
   "metadata": {},
   "outputs": [],
   "source": [
    "blocks = page.get_text('json')\n",
    "# Parse all blocks\n",
    "\n",
    "pgdict = json.loads(blocks)\n",
    "#Convert the blocks into json\n",
    "\n",
    "\n",
    "def sort_blocks(block_dict):\n",
    "    sortedBlocks = []\n",
    "    for block in block_dict['blocks']:\n",
    "        \n",
    "        #Test if the block contains lines of text\n",
    "        #Since images block does not have lines\n",
    "        try:\n",
    "            block['lines']\n",
    "        except:\n",
    "            pass\n",
    "        else:\n",
    "            x = block['bbox'][0]\n",
    "            y = block['bbox'][1]\n",
    "            key = [x, y]\n",
    "            sortedBlocks.append([key, block])\n",
    "        \n",
    "    sortedBlocks.sort(key = lambda k: [k[0], k[1]])\n",
    "    #Sorts the list based on x (k[0]) and then y(k[1])\n",
    "    \n",
    "    return[block[1] for block in sortedBlocks]\n",
    "    #Returns the blocks without the keys\n",
    "    \n",
    "print(len(sort_blocks(pgdict)))\n",
    "blocks_list = sort_blocks(pgdict)\n",
    "    "
   ]
  },
  {
   "cell_type": "code",
   "execution_count": null,
   "id": "31c52dde",
   "metadata": {},
   "outputs": [],
   "source": [
    "def list_paragraphs(blocks_list):\n",
    "    paragraphs = []\n",
    "    for block in blocks_list:\n",
    "        textList = []\n",
    "        for line in block['lines']:\n",
    "            #Test if the line contains spans\n",
    "            #If none: pass, if present: enter loop\n",
    "            try:\n",
    "                line['spans']\n",
    "            except:\n",
    "                pass\n",
    "            else:\n",
    "                for span in line['spans']:\n",
    "                #Test if the span is a paragraph content using size, color, and font\n",
    "                #Since headers, page numbers, etc. have different sizes, color, and font compared to paragraph text\n",
    "                    if (span['size'] == 8.0 and span['color'] == 2236191 and span['font'] == 'Roboto-Light'):\n",
    "                        #Stores the text if it is a paragraph content\n",
    "                        ##.replace, .encode, and .decode were used to remove unicode characters\n",
    "                        ##.replace was needed for \\xa0 since there is no space in between texts\n",
    "                        textList.append(span['text'].replace('\\xa0', ' ').encode(\"ascii\", \"ignore\").decode())\n",
    "            #Store the text List to paragraphs\n",
    "        paragraphs.append(textList)\n",
    "    return paragraphs\n",
    "paragraphs = list_paragraphs(blocks_list)\n",
    "print(list_paragraphs(blocks_list)[6])"
   ]
  },
  {
   "cell_type": "code",
   "execution_count": null,
   "id": "1094a825",
   "metadata": {},
   "outputs": [],
   "source": []
  },
  {
   "cell_type": "code",
   "execution_count": null,
   "id": "0f37ee79",
   "metadata": {},
   "outputs": [],
   "source": [
    "for block in pgdict[\"blocks\"]:\n",
    "    print (block[\"number\"])\n",
    "    print (block[\"bbox\"])"
   ]
  },
  {
   "cell_type": "code",
   "execution_count": null,
   "id": "d49b04ba",
   "metadata": {},
   "outputs": [],
   "source": [
    "print (pgdict[\"blocks\"][5]['lines'][2]['spans'][0])\n",
    "print (type(pgdict[\"blocks\"][7]['lines'][1]['spans']))\n",
    "#print (pgdict[\"blocks\"][7]['lines'][0])\n",
    "#print (pgdict[\"blocks\"])\n",
    "#print (blocks_list[0]['lines'][1]['bbox'][0])"
   ]
  },
  {
   "cell_type": "code",
   "execution_count": null,
   "id": "10c8818e",
   "metadata": {},
   "outputs": [],
   "source": []
  }
 ],
 "metadata": {
  "kernelspec": {
   "display_name": "Data Science",
   "language": "python",
   "name": "datascience"
  },
  "language_info": {
   "codemirror_mode": {
    "name": "ipython",
    "version": 3
   },
   "file_extension": ".py",
   "mimetype": "text/x-python",
   "name": "python",
   "nbconvert_exporter": "python",
   "pygments_lexer": "ipython3",
   "version": "3.9.10"
  }
 },
 "nbformat": 4,
 "nbformat_minor": 5
}
