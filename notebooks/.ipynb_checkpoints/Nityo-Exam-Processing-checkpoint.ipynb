{
 "cells": [
  {
   "cell_type": "markdown",
   "id": "64b5a13d",
   "metadata": {},
   "source": [
    "# Solution for Question Number 1"
   ]
  },
  {
   "cell_type": "code",
   "execution_count": null,
   "id": "0ff8d484",
   "metadata": {},
   "outputs": [],
   "source": []
  }
 ],
 "metadata": {
  "kernelspec": {
   "display_name": "Data Science",
   "language": "python",
   "name": "datascience"
  },
  "language_info": {
   "codemirror_mode": {
    "name": "ipython",
    "version": 3
   },
   "file_extension": ".py",
   "mimetype": "text/x-python",
   "name": "python",
   "nbconvert_exporter": "python",
   "pygments_lexer": "ipython3",
   "version": "3.9.10"
  }
 },
 "nbformat": 4,
 "nbformat_minor": 5
}
